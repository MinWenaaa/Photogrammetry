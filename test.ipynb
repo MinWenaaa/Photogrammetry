{
 "cells": [
  {
   "cell_type": "code",
   "execution_count": 3,
   "metadata": {},
   "outputs": [],
   "source": [
    "import numpy as np\n",
    "import pandas as pd\n",
    "from math import cos, sin, sqrt\n",
    "from rear_frontal_intersection import AandL, spatialRearIntersection, rearAndFrontal\n",
    "\n",
    "f = 150\n",
    "m = 10000\n",
    "path = 'input4.xlsx'\n",
    "df = pd.read_excel(path, engine='openpyxl', dtype=float)\n",
    "coordination = df.to_numpy()\n",
    "GCP_left = coordination[0:4,0:2] \n",
    "GCP_right = coordination[0:4,2:4]\n",
    "GCP_ground = coordination[0:4,4:7]\n",
    "unknown_left = coordination[4:9, 0:2]\n",
    "unknown_right = coordination[4:9, 2:4]"
   ]
  },
  {
   "cell_type": "code",
   "execution_count": 5,
   "metadata": {},
   "outputs": [
    {
     "name": "stdout",
     "output_type": "stream",
     "text": [
      "单位权中误差：\n",
      " 0.006577921632405701\n",
      "单位权中误差：\n",
      " 0.007798151090396662\n",
      "单位权中误差：\n",
      " 0.006577921632405701\n",
      "单位权中误差：\n",
      " 0.007798151090396662\n"
     ]
    }
   ],
   "source": [
    "EO_left = spatialRearIntersection(m, f, GCP_left, GCP_ground)\n",
    "EO_right = spatialRearIntersection(m, f, GCP_right, GCP_ground)\n",
    "t = np.hstack((EO_left, EO_right))\n",
    "X = rearAndFrontal(m=m, f=f,\n",
    "        GCP_left=GCP_left, GCP_right=GCP_right, GCP_ground=GCP_ground,\n",
    "        unknown_left=unknown_left, unknown_right=unknown_right\n",
    "    )"
   ]
  },
  {
   "cell_type": "code",
   "execution_count": 19,
   "metadata": {},
   "outputs": [],
   "source": [
    "temp_left = AandL(f, t[0:6], \n",
    "            image = np.vstack((GCP_left, unknown_left)), \n",
    "            ground = np.vstack((GCP_ground, X))\n",
    "        )\n",
    "temp_right = AandL(f, t[6:12], \n",
    "            image = np.vstack((GCP_right, unknown_right)), \n",
    "            ground = np.vstack((GCP_ground, X))\n",
    "        )\n",
    "\n",
    "A_1 = temp_left[:,0:6]\n",
    "A_2 = temp_right[:,0:6]\n",
    "L = np.hstack((temp_left[:,6], temp_right[:,6]))\n",
    "\n",
    "A = np.hstack((\n",
    "            np.vstack((A_1, np.zeros_like(A_1))), \n",
    "            np.vstack((np.zeros_like(A_1), A_2)), \n",
    "        ))"
   ]
  },
  {
   "cell_type": "code",
   "execution_count": 24,
   "metadata": {},
   "outputs": [
    {
     "data": {
      "text/plain": [
       "array([-560.11469817, -670.04237416, -564.19381043, -644.09751538,\n",
       "       -613.59620552, -558.40632158, -609.95430583, -664.2848837 ,\n",
       "       -606.45962167, -563.00736731, -587.57012512, -360.70538339,\n",
       "       -364.49825975, -575.11456363, -456.35822516, -465.30316452,\n",
       "       -474.5049508 , -363.44137264])"
      ]
     },
     "execution_count": 24,
     "metadata": {},
     "output_type": "execute_result"
    }
   ],
   "source": [
    "A_1 @ EO_left"
   ]
  },
  {
   "cell_type": "code",
   "execution_count": 18,
   "metadata": {},
   "outputs": [
    {
     "data": {
      "text/plain": [
       "array([ 1.71248595e-03,  1.05979791e-03, -5.29904273e-03,  2.47227976e-03,\n",
       "        3.23513689e-06, -3.97679416e-04, -3.17412117e-04,  2.75162205e-04,\n",
       "       -2.31217256e-04, -3.03669407e-03,  1.41347767e-03, -3.41228990e-03,\n",
       "        5.04253439e-03,  3.72623372e-05, -4.29061638e-03, -3.69894870e-03,\n",
       "        3.49438730e-03, -2.72460929e-03, -3.54697167e-03,  1.26351119e-03,\n",
       "       -3.96974816e-03,  6.29650423e-03, -4.55045819e-06,  5.69288221e-04,\n",
       "        4.50919893e-04, -3.87838582e-04,  3.31709411e-04, -9.87674536e-04,\n",
       "       -2.22562088e-03,  6.13105784e-03, -2.91911397e-03, -3.60223409e-05,\n",
       "        4.23579260e-03,  3.63889004e-03, -3.42531791e-03,  2.72673475e-03])"
      ]
     },
     "execution_count": 18,
     "metadata": {},
     "output_type": "execute_result"
    }
   ],
   "source": [
    "\n",
    "n = GCP_left.shape[0] + unknown_left.shape[0]\n",
    "B = np.zeros((4*n, 3*n))\n",
    "for i in range(n):\n",
    "    B[i, i*3:i*3+3] = -temp_left[i, 0:3]\n",
    "    B[i+n, i*3:i*3+3] = -temp_left[i+n, 0:3]\n",
    "    B[i+2*n, i*3:i*3+3] = -temp_right[i, 0:3]\n",
    "    B[i+3*n, i*3:i*3+3] = -temp_right[i+n, 0:3]\n",
    "\n",
    "np.hstack((A, B))@np.hstack((t, GCP_ground.ravel(), X.ravel())) \n",
    "\n",
    "L\n"
   ]
  }
 ],
 "metadata": {
  "kernelspec": {
   "display_name": "base",
   "language": "python",
   "name": "python3"
  },
  "language_info": {
   "codemirror_mode": {
    "name": "ipython",
    "version": 3
   },
   "file_extension": ".py",
   "mimetype": "text/x-python",
   "name": "python",
   "nbconvert_exporter": "python",
   "pygments_lexer": "ipython3",
   "version": "3.11.7"
  }
 },
 "nbformat": 4,
 "nbformat_minor": 2
}

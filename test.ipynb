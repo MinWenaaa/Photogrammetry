{
 "cells": [
  {
   "cell_type": "code",
   "execution_count": 2,
   "metadata": {},
   "outputs": [],
   "source": [
    "import pandas as pd\n",
    "import numpy as np"
   ]
  },
  {
   "cell_type": "code",
   "execution_count": 4,
   "metadata": {},
   "outputs": [],
   "source": [
    "m = 10000\n",
    "f = 150\n",
    "\n",
    "df = pd.read_excel('input2.xlsx', engine='openpyxl', dtype=float)\n",
    "data = df.to_numpy()\n",
    "\n",
    "point_left = data[:, 0:2]\n",
    "point_right = data[:, 2:4]"
   ]
  },
  {
   "cell_type": "code",
   "execution_count": 5,
   "metadata": {},
   "outputs": [
    {
     "name": "stdout",
     "output_type": "stream",
     "text": [
      "[[  16.012   79.963 -150.   ]\n",
      " [  88.56    81.134 -150.   ]\n",
      " [  13.362  -79.37  -150.   ]\n",
      " [  82.24   -80.027 -150.   ]\n",
      " [  51.758   80.555 -150.   ]\n",
      " [  14.618   -0.231 -150.   ]\n",
      " [  49.88    -0.782 -150.   ]\n",
      " [  86.14    -1.346 -150.   ]\n",
      " [  48.035  -79.962 -150.   ]]\n"
     ]
    }
   ],
   "source": [
    "from spatial_rear_intersection import rotationMatrix\n",
    "X = np.zeros(5)\n",
    "\n",
    "R = rotationMatrix(X[2], X[3], X[4])\n",
    "auxiliary_left = np.hstack((point_left, -150*np.ones((9,1))))\n",
    "auxiliary_right = (R @ np.hstack((point_right, -150*np.ones((9,1)))).T).T\n",
    "\n",
    "print(auxiliary_left)\n",
    "bu = np.mean(point_left[:,0]- point_right[:,0])\n",
    "bw = bu*X[1]\n",
    "\n",
    "N_1 = (bu*auxiliary_right[:,2] - bw*auxiliary_right[:,0])/(auxiliary_left[:,0]*auxiliary_right[:,2]-auxiliary_left[:,2]*auxiliary_right[:,1])\n",
    "N_2 = (bu*auxiliary_left[:,2] - bw*auxiliary_left[:,0])/(auxiliary_left[:,0]*auxiliary_right[:,2]-auxiliary_left[:,2]*auxiliary_right[:,1])"
   ]
  },
  {
   "cell_type": "code",
   "execution_count": 35,
   "metadata": {},
   "outputs": [
    {
     "name": "stdout",
     "output_type": "stream",
     "text": [
      "[[ 5.70001127e+01 -2.73950442e+02  1.08632339e+02  9.21222222e+01\n",
      "  -4.54039726e+01]\n",
      " [-2.43044494e+01  1.33339184e+03 -4.66293284e+01  9.21222222e+01\n",
      "  -3.22550607e+00]\n",
      " [ 4.15535179e+01  1.91488377e+02 -7.90201154e+01  9.21222222e+01\n",
      "  -4.85926298e+01]\n",
      " [ 2.99581119e+00  8.54953090e+01 -5.61090385e+00  9.21222222e+01\n",
      "  -6.07208274e+00]\n",
      " [ 7.20932939e+01 -5.54153250e+02  1.37822848e+02  9.21222222e+01\n",
      "  -2.45370610e+01]\n",
      " [-1.15240844e-01  1.19093493e+03 -4.80170184e+02  9.21222222e+01\n",
      "  -4.66789441e+01]\n",
      " [ 5.20369625e-01  2.92956755e+02 -7.63751896e+01  9.21222222e+01\n",
      "  -2.59176660e+01]\n",
      " [ 1.13258683e-01  1.56991376e+02 -8.04394058e+00  9.21222222e+01\n",
      "  -4.73262563e+00]\n",
      " [ 1.70313786e+01  1.17641043e+02 -3.20395654e+01  9.21222222e+01\n",
      "  -2.72915154e+01]]\n"
     ]
    }
   ],
   "source": [
    "a = - auxiliary_right[:,0] * auxiliary_right[:,1] * N_2 /auxiliary_right[:,2]\n",
    "\n",
    "b = -(auxiliary_right[:,2]+auxiliary_right[:,0]*auxiliary_right[:,0]/auxiliary_right[:,2]) * N_2\n",
    "\n",
    "c = auxiliary_right[:,0] * N_2\n",
    "\n",
    "d = bu * np.ones(9)\n",
    "\n",
    "e = - bu * auxiliary_right[:,0] / auxiliary_left[:,2] \n",
    "\n",
    "l = N_1 * auxiliary_left[:,1] - N_2 * auxiliary_right[:,1] - bu*X[0]\n",
    "\n",
    "A = np.vstack((a, b, c, d, e)).T\n",
    "\n",
    "print(A)\n"
   ]
  },
  {
   "cell_type": "code",
   "execution_count": null,
   "metadata": {},
   "outputs": [],
   "source": []
  }
 ],
 "metadata": {
  "kernelspec": {
   "display_name": "base",
   "language": "python",
   "name": "python3"
  },
  "language_info": {
   "codemirror_mode": {
    "name": "ipython",
    "version": 3
   },
   "file_extension": ".py",
   "mimetype": "text/x-python",
   "name": "python",
   "nbconvert_exporter": "python",
   "pygments_lexer": "ipython3",
   "version": "3.11.7"
  }
 },
 "nbformat": 4,
 "nbformat_minor": 2
}

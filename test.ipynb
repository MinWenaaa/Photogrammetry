{
 "cells": [
  {
   "cell_type": "code",
   "execution_count": 2,
   "metadata": {},
   "outputs": [],
   "source": [
    "import pandas as pd\n",
    "import numpy as np\n",
    "from math import cos, sin, sqrt\n",
    "from spatial_rear_intersection import spatialRearIntersection\n",
    "\n",
    "def rotationMatrix(phi, omega, kappa):\n",
    "    R = np.array([\n",
    "            [cos(phi)*cos(kappa)-sin(phi)*sin(omega)*sin(kappa), -cos(phi)*sin(kappa) - sin(phi)*sin(omega)*cos(kappa), -sin(phi)*cos(omega)], \n",
    "            [cos(omega)*sin(kappa), cos(omega)*cos(kappa), -sin(omega)], \n",
    "            [sin(phi)*cos(kappa) + cos(phi)*sin(omega)*sin(kappa), -sin(phi)*sin(kappa) + cos(phi)*sin(omega)*cos(kappa), cos(phi)*cos(omega)]\n",
    "        ])\n",
    "    \n",
    "    return R\n"
   ]
  },
  {
   "cell_type": "code",
   "execution_count": 3,
   "metadata": {},
   "outputs": [
    {
     "name": "stdout",
     "output_type": "stream",
     "text": [
      "[[ 16.012  79.963]\n",
      " [ 88.56   81.134]\n",
      " [ 13.362 -79.37 ]\n",
      " [ 82.24  -80.027]]\n",
      "[[-73.93   78.706]\n",
      " [ -5.252  78.184]\n",
      " [-79.122 -78.879]\n",
      " [ -9.887 -80.089]]\n",
      "51.758\n",
      "80.555\n"
     ]
    }
   ],
   "source": [
    "df = pd.read_excel('input2.xlsx', engine='openpyxl', dtype=float)\n",
    "data = df.to_numpy()\n",
    "\n",
    "GCP_left = data[0:4, 0:2]\n",
    "GCP_right = data[0:4, 2:4]\n",
    "GCP_ground = data[0:4, 4:7]\n",
    "unknownPoint_left = data[4:9, 0:2]\n",
    "unknownPoint_right = data[4:9, 2:4]\n",
    "\n",
    "m = 10000\n",
    "f = 150\n",
    "\n",
    "print(GCP_left)\n",
    "print(GCP_right)\n",
    "print(unknownPoint_left[0,0])\n",
    "print(unknownPoint_left[0,1])"
   ]
  },
  {
   "cell_type": "code",
   "execution_count": 8,
   "metadata": {},
   "outputs": [
    {
     "name": "stdout",
     "output_type": "stream",
     "text": [
      "[4.99977015e+03 4.99972886e+03 2.00000234e+03 2.15007692e-04\n",
      " 2.90644338e-02 9.52470639e-02 6.57792163e-03]\n",
      "[5.89682856e+03 5.07024426e+03 2.03044324e+03 1.44335502e-02\n",
      " 4.60182911e-02 1.10469036e-01 7.79815109e-03]\n"
     ]
    }
   ],
   "source": [
    "exteriorOrientation_left = spatialRearIntersection(m, f, GCP_left, GCP_ground)\n",
    "exteriorOrientation_right = spatialRearIntersection(m, f, GCP_right, GCP_ground)\n",
    "\n",
    "print(exteriorOrientation_left)\n",
    "print(exteriorOrientation_right)\n"
   ]
  },
  {
   "cell_type": "code",
   "execution_count": 5,
   "metadata": {},
   "outputs": [
    {
     "name": "stdout",
     "output_type": "stream",
     "text": [
      "[  80.47417752   93.50996941 -147.32749889]\n",
      "[ -11.72644406   83.94708052 -146.47764178]\n"
     ]
    }
   ],
   "source": [
    "R_left = rotationMatrix(exteriorOrientation_left[3], exteriorOrientation_left[4], exteriorOrientation_left[5])\n",
    "R_right = rotationMatrix(exteriorOrientation_right[3], exteriorOrientation_right[4], exteriorOrientation_right[5])\n",
    "\n",
    "auxiliary_left = R_left @ np.array([GCP_left[1,0], GCP_left[1,1], -150])\n",
    "auxiliary_right = R_right @ np.array([GCP_right[1,0], GCP_right[1,1], -150])\n",
    "\n",
    "print(auxiliary_left)\n",
    "print(auxiliary_right)\n"
   ]
  },
  {
   "cell_type": "code",
   "execution_count": 6,
   "metadata": {},
   "outputs": [
    {
     "name": "stdout",
     "output_type": "stream",
     "text": [
      "[897.05840477  70.5153993   30.44090122]\n",
      "9.695832169875514\n",
      "9.959906417521903\n"
     ]
    }
   ],
   "source": [
    "B = exteriorOrientation_right[0:3] - exteriorOrientation_left[0:3]\n",
    "\n",
    "print(B)\n",
    "\n",
    "N_1 = (B[0]*auxiliary_right[2] - B[2]*auxiliary_right[0]) / (auxiliary_left[0]*auxiliary_right[2] - auxiliary_right[0]*auxiliary_left[2])\n",
    "N_2 = (B[0]*auxiliary_left[2] - B[2]*auxiliary_left[0]) / (auxiliary_left[0]*auxiliary_right[2] - auxiliary_right[0]*auxiliary_left[2])\n",
    "\n",
    "print(N_1)\n",
    "print(N_2)"
   ]
  },
  {
   "cell_type": "code",
   "execution_count": 7,
   "metadata": {},
   "outputs": [
    {
     "name": "stdout",
     "output_type": "stream",
     "text": [
      "[5780.03427279 5906.38582716  571.5396373 ]\n",
      "[5780.03427279 5906.34932276  571.5396373 ]\n"
     ]
    }
   ],
   "source": [
    "\n",
    "\n",
    "ground_1 = exteriorOrientation_left[0:3] + N_1 * auxiliary_left\n",
    "ground_2 = exteriorOrientation_right[0:3] + N_2 * auxiliary_right\n",
    "\n",
    "print(ground_1)\n",
    "print(ground_2)"
   ]
  }
 ],
 "metadata": {
  "kernelspec": {
   "display_name": "base",
   "language": "python",
   "name": "python3"
  },
  "language_info": {
   "codemirror_mode": {
    "name": "ipython",
    "version": 3
   },
   "file_extension": ".py",
   "mimetype": "text/x-python",
   "name": "python",
   "nbconvert_exporter": "python",
   "pygments_lexer": "ipython3",
   "version": "3.11.7"
  }
 },
 "nbformat": 4,
 "nbformat_minor": 2
}

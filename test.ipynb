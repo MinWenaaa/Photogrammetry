{
 "cells": [
  {
   "cell_type": "code",
   "execution_count": 2,
   "metadata": {},
   "outputs": [
    {
     "name": "stdout",
     "output_type": "stream",
     "text": [
      "line 0\n",
      "line 1\n",
      "line 2\n",
      "line 3\n",
      "line 4\n",
      "line 5\n",
      "line 6\n",
      "line 7\n",
      "line 8\n",
      "line 9\n",
      "line 10\n",
      "line 11\n",
      "line 12\n",
      "line 13\n",
      "line 14\n",
      "line 15\n",
      "line 16\n",
      "line 17\n",
      "line 18\n",
      "line 19\n",
      "line 20\n",
      "line 21\n",
      "line 22\n",
      "line 23\n",
      "line 24\n",
      "line 25\n",
      "line 26\n",
      "line 27\n",
      "line 28\n",
      "line 29\n",
      "line 30\n",
      "line 31\n",
      "line 32\n",
      "line 33\n",
      "line 34\n",
      "line 35\n",
      "line 36\n",
      "line 37\n",
      "line 38\n",
      "line 39\n",
      "line 40\n",
      "line 41\n",
      "line 42\n",
      "line 43\n",
      "line 44\n",
      "line 45\n",
      "line 46\n",
      "line 47\n",
      "line 48\n",
      "line 49\n",
      "line 50\n",
      "line 51\n",
      "line 52\n",
      "line 53\n",
      "line 54\n",
      "line 55\n",
      "line 56\n",
      "line 57\n",
      "line 58\n",
      "line 59\n",
      "line 60\n",
      "line 61\n",
      "line 62\n",
      "line 63\n",
      "line 64\n",
      "line 65\n",
      "line 66\n",
      "line 67\n",
      "line 68\n",
      "line 69\n",
      "line 70\n",
      "line 71\n",
      "line 72\n",
      "line 73\n",
      "line 74\n",
      "line 75\n",
      "line 76\n",
      "line 77\n",
      "line 78\n",
      "line 79\n",
      "line 80\n",
      "line 81\n",
      "line 82\n",
      "line 83\n",
      "line 84\n",
      "line 85\n",
      "line 86\n"
     ]
    }
   ],
   "source": [
    "from fitting_and_interpolation import read_point_data, moving_surface_interpolation\n",
    "\n",
    "data_matrix = read_point_data('data/pre-points  - Cloud2.txt')\n",
    "result = moving_surface_interpolation(data_matrix, 40, 15)"
   ]
  },
  {
   "cell_type": "code",
   "execution_count": 3,
   "metadata": {},
   "outputs": [
    {
     "data": {
      "text/plain": [
       "array([[-1340.3659668 ,   -53.12400055,   -52.03589917],\n",
       "       [-1340.3659668 ,   -38.12400055,   193.28136186],\n",
       "       [-1340.3659668 ,   -23.12400055,   150.46021424],\n",
       "       ...,\n",
       "       [    0.        ,     0.        ,     0.        ],\n",
       "       [    0.        ,     0.        ,     0.        ],\n",
       "       [    0.        ,     0.        ,     0.        ]])"
      ]
     },
     "execution_count": 3,
     "metadata": {},
     "output_type": "execute_result"
    }
   ],
   "source": [
    "from fitting_and_interpolation import output2tif\n",
    "\n",
    "result"
   ]
  }
 ],
 "metadata": {
  "kernelspec": {
   "display_name": "imgPocessing",
   "language": "python",
   "name": "python3"
  },
  "language_info": {
   "codemirror_mode": {
    "name": "ipython",
    "version": 3
   },
   "file_extension": ".py",
   "mimetype": "text/x-python",
   "name": "python",
   "nbconvert_exporter": "python",
   "pygments_lexer": "ipython3",
   "version": "3.12.4"
  }
 },
 "nbformat": 4,
 "nbformat_minor": 2
}
